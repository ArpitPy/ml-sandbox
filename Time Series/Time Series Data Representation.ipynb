{
 "cells": [
  {
   "cell_type": "code",
   "execution_count": null,
   "id": "cb2e592d-d6aa-42d5-b118-5c3b66ce0cae",
   "metadata": {},
   "outputs": [],
   "source": []
  }
 ],
 "metadata": {
  "kernelspec": {
   "display_name": "",
   "name": ""
  },
  "language_info": {
   "name": ""
  }
 },
 "nbformat": 4,
 "nbformat_minor": 5
}
