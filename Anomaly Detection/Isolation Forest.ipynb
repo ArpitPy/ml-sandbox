{
 "cells": [
  {
   "cell_type": "code",
   "execution_count": null,
   "id": "cc2a413c-e093-44f2-89eb-629abd89dcef",
   "metadata": {},
   "outputs": [],
   "source": []
  }
 ],
 "metadata": {
  "kernelspec": {
   "display_name": "",
   "name": ""
  },
  "language_info": {
   "name": ""
  }
 },
 "nbformat": 4,
 "nbformat_minor": 5
}
